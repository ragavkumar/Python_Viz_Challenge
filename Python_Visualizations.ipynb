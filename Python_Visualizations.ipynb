{
  "nbformat": 4,
  "nbformat_minor": 0,
  "metadata": {
    "colab": {
      "name": "Copy of [Public] Intro to Data Science: The Art of Visualizations",
      "provenance": [],
      "collapsed_sections": [],
      "include_colab_link": true
    },
    "kernelspec": {
      "name": "python3",
      "display_name": "Python 3"
    }
  },
  "cells": [
    {
      "cell_type": "markdown",
      "metadata": {
        "id": "view-in-github",
        "colab_type": "text"
      },
      "source": [
        "<a href=\"https://colab.research.google.com/github/ragavkumar/Python_Viz_Challenge/blob/main/Python_Visualizations.ipynb\" target=\"_parent\"><img src=\"https://colab.research.google.com/assets/colab-badge.svg\" alt=\"Open In Colab\"/></a>"
      ]
    },
    {
      "cell_type": "markdown",
      "metadata": {
        "id": "M0BvCh1RPm-g"
      },
      "source": [
        "# What makes buying a home in California so expensive?\n",
        "- *Throughout* this notebook we will seek to answer that question using **exploratory** data analysis techniques and visualizations in Python.\n",
        "- Anytime you see a line surrounded by triple asterisks, `***LIKE THIS***`, that is a line of code that you will need to replace or edit.\n",
        "- Have fun and good luck coding!"
      ]
    },
    {
      "cell_type": "markdown",
      "metadata": {
        "id": "puZtFgoHmnhy"
      },
      "source": [
        "> To execute a line or block of code, simply click the \"Play\" button on the left side or use the keyboard shortcut \"Shift + Enter\"\n",
        "> When that code block has actually been executed, the blank brackets will change to have a number inside of them."
      ]
    },
    {
      "cell_type": "code",
      "metadata": {
        "id": "MVvgG86tmpy-",
        "colab": {
          "base_uri": "https://localhost:8080/"
        },
        "outputId": "a9af228b-c518-4703-eb61-3378ebd7ef86"
      },
      "source": [
        "x = 'Hello, World!'\n",
        "print(x)"
      ],
      "execution_count": null,
      "outputs": [
        {
          "output_type": "stream",
          "text": [
            "Hello, World!\n"
          ],
          "name": "stdout"
        }
      ]
    },
    {
      "cell_type": "markdown",
      "metadata": {
        "id": "cpwsxUdOthZh"
      },
      "source": [
        "___\n",
        "### Import the California Housing dataset.\n",
        "\n",
        "Keep in mind:\n",
        "*   One block of homes per row\n",
        "*   Values are from 1990, not 2019!\n",
        "\n",
        "\n"
      ]
    },
    {
      "cell_type": "code",
      "metadata": {
        "id": "fuynGZ8jDsca"
      },
      "source": [
        "# Libraries we need\n",
        "import os\n",
        "import requests\n",
        "\n",
        "def reqFile(url, file_path):\n",
        "    # Retrieve the library xlsx file and save it in the datasets path\n",
        "    resp = requests.get(url)\n",
        "    output = open(file_path, 'wb')\n",
        "    output.write(resp.content)\n",
        "    output.close()\n"
      ],
      "execution_count": 1,
      "outputs": []
    },
    {
      "cell_type": "code",
      "metadata": {
        "id": "uO3whRJ47eK2"
      },
      "source": [
        "# Source of data\n",
        "url = 'https://github.com/ageron/handson-ml/raw/master/datasets/housing/housing.csv'\n",
        "\n",
        "# Define a name for the file to be downloaded\n",
        "file_name = 'housing.csv'\n",
        "\n",
        "# Get the current working directory to get the full path to 'file_name'\n",
        "file_path = os.path.join(os.getcwd(), file_name)\n",
        "\n",
        "# Request the file\n",
        "reqFile(url, file_path)"
      ],
      "execution_count": 2,
      "outputs": []
    },
    {
      "cell_type": "code",
      "metadata": {
        "id": "jp3UoyGc7kJU"
      },
      "source": [
        "import pandas as pd\n",
        "\n",
        "housing = pd.read_csv(file_path)"
      ],
      "execution_count": 3,
      "outputs": []
    },
    {
      "cell_type": "markdown",
      "metadata": {
        "id": "87nxMLuvOC9b"
      },
      "source": [
        "### Quick EDA"
      ]
    },
    {
      "cell_type": "markdown",
      "metadata": {
        "id": "GS2QQahGtov2"
      },
      "source": [
        "Use the `.head()` function to look at the first 5 rows of data entries.\n"
      ]
    },
    {
      "cell_type": "code",
      "metadata": {
        "id": "jVKxeUukpGJV",
        "colab": {
          "base_uri": "https://localhost:8080/",
          "height": 195
        },
        "outputId": "850920b1-4db2-4b37-8821-a5e3ae37c6e0"
      },
      "source": [
        "housing.head()"
      ],
      "execution_count": 4,
      "outputs": [
        {
          "output_type": "execute_result",
          "data": {
            "text/html": [
              "<div>\n",
              "<style scoped>\n",
              "    .dataframe tbody tr th:only-of-type {\n",
              "        vertical-align: middle;\n",
              "    }\n",
              "\n",
              "    .dataframe tbody tr th {\n",
              "        vertical-align: top;\n",
              "    }\n",
              "\n",
              "    .dataframe thead th {\n",
              "        text-align: right;\n",
              "    }\n",
              "</style>\n",
              "<table border=\"1\" class=\"dataframe\">\n",
              "  <thead>\n",
              "    <tr style=\"text-align: right;\">\n",
              "      <th></th>\n",
              "      <th>longitude</th>\n",
              "      <th>latitude</th>\n",
              "      <th>housing_median_age</th>\n",
              "      <th>total_rooms</th>\n",
              "      <th>total_bedrooms</th>\n",
              "      <th>population</th>\n",
              "      <th>households</th>\n",
              "      <th>median_income</th>\n",
              "      <th>median_house_value</th>\n",
              "      <th>ocean_proximity</th>\n",
              "    </tr>\n",
              "  </thead>\n",
              "  <tbody>\n",
              "    <tr>\n",
              "      <th>0</th>\n",
              "      <td>-122.23</td>\n",
              "      <td>37.88</td>\n",
              "      <td>41.0</td>\n",
              "      <td>880.0</td>\n",
              "      <td>129.0</td>\n",
              "      <td>322.0</td>\n",
              "      <td>126.0</td>\n",
              "      <td>8.3252</td>\n",
              "      <td>452600.0</td>\n",
              "      <td>NEAR BAY</td>\n",
              "    </tr>\n",
              "    <tr>\n",
              "      <th>1</th>\n",
              "      <td>-122.22</td>\n",
              "      <td>37.86</td>\n",
              "      <td>21.0</td>\n",
              "      <td>7099.0</td>\n",
              "      <td>1106.0</td>\n",
              "      <td>2401.0</td>\n",
              "      <td>1138.0</td>\n",
              "      <td>8.3014</td>\n",
              "      <td>358500.0</td>\n",
              "      <td>NEAR BAY</td>\n",
              "    </tr>\n",
              "    <tr>\n",
              "      <th>2</th>\n",
              "      <td>-122.24</td>\n",
              "      <td>37.85</td>\n",
              "      <td>52.0</td>\n",
              "      <td>1467.0</td>\n",
              "      <td>190.0</td>\n",
              "      <td>496.0</td>\n",
              "      <td>177.0</td>\n",
              "      <td>7.2574</td>\n",
              "      <td>352100.0</td>\n",
              "      <td>NEAR BAY</td>\n",
              "    </tr>\n",
              "    <tr>\n",
              "      <th>3</th>\n",
              "      <td>-122.25</td>\n",
              "      <td>37.85</td>\n",
              "      <td>52.0</td>\n",
              "      <td>1274.0</td>\n",
              "      <td>235.0</td>\n",
              "      <td>558.0</td>\n",
              "      <td>219.0</td>\n",
              "      <td>5.6431</td>\n",
              "      <td>341300.0</td>\n",
              "      <td>NEAR BAY</td>\n",
              "    </tr>\n",
              "    <tr>\n",
              "      <th>4</th>\n",
              "      <td>-122.25</td>\n",
              "      <td>37.85</td>\n",
              "      <td>52.0</td>\n",
              "      <td>1627.0</td>\n",
              "      <td>280.0</td>\n",
              "      <td>565.0</td>\n",
              "      <td>259.0</td>\n",
              "      <td>3.8462</td>\n",
              "      <td>342200.0</td>\n",
              "      <td>NEAR BAY</td>\n",
              "    </tr>\n",
              "  </tbody>\n",
              "</table>\n",
              "</div>"
            ],
            "text/plain": [
              "   longitude  latitude  ...  median_house_value  ocean_proximity\n",
              "0    -122.23     37.88  ...            452600.0         NEAR BAY\n",
              "1    -122.22     37.86  ...            358500.0         NEAR BAY\n",
              "2    -122.24     37.85  ...            352100.0         NEAR BAY\n",
              "3    -122.25     37.85  ...            341300.0         NEAR BAY\n",
              "4    -122.25     37.85  ...            342200.0         NEAR BAY\n",
              "\n",
              "[5 rows x 10 columns]"
            ]
          },
          "metadata": {
            "tags": []
          },
          "execution_count": 4
        }
      ]
    },
    {
      "cell_type": "markdown",
      "metadata": {
        "id": "Lid6B45VOU5b"
      },
      "source": [
        "Use `.shape` to return the size of your data set (rows, columns)."
      ]
    },
    {
      "cell_type": "code",
      "metadata": {
        "id": "y6y4LGkdutO8",
        "colab": {
          "base_uri": "https://localhost:8080/"
        },
        "outputId": "cb1b6a7b-4ca6-4038-fe41-bccd3e5fb861"
      },
      "source": [
        "housing.shape"
      ],
      "execution_count": 5,
      "outputs": [
        {
          "output_type": "execute_result",
          "data": {
            "text/plain": [
              "(20640, 10)"
            ]
          },
          "metadata": {
            "tags": []
          },
          "execution_count": 5
        }
      ]
    },
    {
      "cell_type": "markdown",
      "metadata": {
        "id": "NY29tBG8tuQH"
      },
      "source": [
        "Use the `.describe()` function to see summary statisitcs on the numerical columns in the data set."
      ]
    },
    {
      "cell_type": "code",
      "metadata": {
        "id": "q3n9ZDhjyCW_",
        "colab": {
          "base_uri": "https://localhost:8080/",
          "height": 284
        },
        "outputId": "2c2c6c68-a0bb-4295-f82a-29819ec08790"
      },
      "source": [
        "housing.describe()"
      ],
      "execution_count": 6,
      "outputs": [
        {
          "output_type": "execute_result",
          "data": {
            "text/html": [
              "<div>\n",
              "<style scoped>\n",
              "    .dataframe tbody tr th:only-of-type {\n",
              "        vertical-align: middle;\n",
              "    }\n",
              "\n",
              "    .dataframe tbody tr th {\n",
              "        vertical-align: top;\n",
              "    }\n",
              "\n",
              "    .dataframe thead th {\n",
              "        text-align: right;\n",
              "    }\n",
              "</style>\n",
              "<table border=\"1\" class=\"dataframe\">\n",
              "  <thead>\n",
              "    <tr style=\"text-align: right;\">\n",
              "      <th></th>\n",
              "      <th>longitude</th>\n",
              "      <th>latitude</th>\n",
              "      <th>housing_median_age</th>\n",
              "      <th>total_rooms</th>\n",
              "      <th>total_bedrooms</th>\n",
              "      <th>population</th>\n",
              "      <th>households</th>\n",
              "      <th>median_income</th>\n",
              "      <th>median_house_value</th>\n",
              "    </tr>\n",
              "  </thead>\n",
              "  <tbody>\n",
              "    <tr>\n",
              "      <th>count</th>\n",
              "      <td>20640.000000</td>\n",
              "      <td>20640.000000</td>\n",
              "      <td>20640.000000</td>\n",
              "      <td>20640.000000</td>\n",
              "      <td>20433.000000</td>\n",
              "      <td>20640.000000</td>\n",
              "      <td>20640.000000</td>\n",
              "      <td>20640.000000</td>\n",
              "      <td>20640.000000</td>\n",
              "    </tr>\n",
              "    <tr>\n",
              "      <th>mean</th>\n",
              "      <td>-119.569704</td>\n",
              "      <td>35.631861</td>\n",
              "      <td>28.639486</td>\n",
              "      <td>2635.763081</td>\n",
              "      <td>537.870553</td>\n",
              "      <td>1425.476744</td>\n",
              "      <td>499.539680</td>\n",
              "      <td>3.870671</td>\n",
              "      <td>206855.816909</td>\n",
              "    </tr>\n",
              "    <tr>\n",
              "      <th>std</th>\n",
              "      <td>2.003532</td>\n",
              "      <td>2.135952</td>\n",
              "      <td>12.585558</td>\n",
              "      <td>2181.615252</td>\n",
              "      <td>421.385070</td>\n",
              "      <td>1132.462122</td>\n",
              "      <td>382.329753</td>\n",
              "      <td>1.899822</td>\n",
              "      <td>115395.615874</td>\n",
              "    </tr>\n",
              "    <tr>\n",
              "      <th>min</th>\n",
              "      <td>-124.350000</td>\n",
              "      <td>32.540000</td>\n",
              "      <td>1.000000</td>\n",
              "      <td>2.000000</td>\n",
              "      <td>1.000000</td>\n",
              "      <td>3.000000</td>\n",
              "      <td>1.000000</td>\n",
              "      <td>0.499900</td>\n",
              "      <td>14999.000000</td>\n",
              "    </tr>\n",
              "    <tr>\n",
              "      <th>25%</th>\n",
              "      <td>-121.800000</td>\n",
              "      <td>33.930000</td>\n",
              "      <td>18.000000</td>\n",
              "      <td>1447.750000</td>\n",
              "      <td>296.000000</td>\n",
              "      <td>787.000000</td>\n",
              "      <td>280.000000</td>\n",
              "      <td>2.563400</td>\n",
              "      <td>119600.000000</td>\n",
              "    </tr>\n",
              "    <tr>\n",
              "      <th>50%</th>\n",
              "      <td>-118.490000</td>\n",
              "      <td>34.260000</td>\n",
              "      <td>29.000000</td>\n",
              "      <td>2127.000000</td>\n",
              "      <td>435.000000</td>\n",
              "      <td>1166.000000</td>\n",
              "      <td>409.000000</td>\n",
              "      <td>3.534800</td>\n",
              "      <td>179700.000000</td>\n",
              "    </tr>\n",
              "    <tr>\n",
              "      <th>75%</th>\n",
              "      <td>-118.010000</td>\n",
              "      <td>37.710000</td>\n",
              "      <td>37.000000</td>\n",
              "      <td>3148.000000</td>\n",
              "      <td>647.000000</td>\n",
              "      <td>1725.000000</td>\n",
              "      <td>605.000000</td>\n",
              "      <td>4.743250</td>\n",
              "      <td>264725.000000</td>\n",
              "    </tr>\n",
              "    <tr>\n",
              "      <th>max</th>\n",
              "      <td>-114.310000</td>\n",
              "      <td>41.950000</td>\n",
              "      <td>52.000000</td>\n",
              "      <td>39320.000000</td>\n",
              "      <td>6445.000000</td>\n",
              "      <td>35682.000000</td>\n",
              "      <td>6082.000000</td>\n",
              "      <td>15.000100</td>\n",
              "      <td>500001.000000</td>\n",
              "    </tr>\n",
              "  </tbody>\n",
              "</table>\n",
              "</div>"
            ],
            "text/plain": [
              "          longitude      latitude  ...  median_income  median_house_value\n",
              "count  20640.000000  20640.000000  ...   20640.000000        20640.000000\n",
              "mean    -119.569704     35.631861  ...       3.870671       206855.816909\n",
              "std        2.003532      2.135952  ...       1.899822       115395.615874\n",
              "min     -124.350000     32.540000  ...       0.499900        14999.000000\n",
              "25%     -121.800000     33.930000  ...       2.563400       119600.000000\n",
              "50%     -118.490000     34.260000  ...       3.534800       179700.000000\n",
              "75%     -118.010000     37.710000  ...       4.743250       264725.000000\n",
              "max     -114.310000     41.950000  ...      15.000100       500001.000000\n",
              "\n",
              "[8 rows x 9 columns]"
            ]
          },
          "metadata": {
            "tags": []
          },
          "execution_count": 6
        }
      ]
    },
    {
      "cell_type": "markdown",
      "metadata": {
        "id": "Tj-_bANmO5bf"
      },
      "source": [
        "___\n",
        "### Let's start using visualizations!"
      ]
    },
    {
      "cell_type": "markdown",
      "metadata": {
        "id": "arNZm5s_t0yl"
      },
      "source": [
        "# Import packages that we need to explore and visualize our data."
      ]
    },
    {
      "cell_type": "code",
      "metadata": {
        "id": "he2mDy6nGeT3"
      },
      "source": [
        "# Import the appropriate packages:\n",
        "import matplotlib.pyplot as plt\n",
        "import seaborn as sns\n",
        "\n",
        "# Set the default style:\n",
        "plt.style.use('seaborn-darkgrid')"
      ],
      "execution_count": null,
      "outputs": []
    },
    {
      "cell_type": "markdown",
      "metadata": {
        "id": "J2XHM79l6SMp"
      },
      "source": [
        "#### Visualizations for Ourselves\n",
        "Let's start by plotting some basic graphs to answer questions about data.\n",
        "We don't need to worry too much about making these aesthetically pleasing."
      ]
    },
    {
      "cell_type": "markdown",
      "metadata": {
        "id": "IbtYvaMqQeE3"
      },
      "source": [
        "- What is the distribution of house values in our data set?\n",
        "> To answer this, we'll use a **histogram**:"
      ]
    },
    {
      "cell_type": "code",
      "metadata": {
        "id": "4aLZ9ddz5z8w",
        "colab": {
          "base_uri": "https://localhost:8080/",
          "height": 222
        },
        "outputId": "78225ed1-8be6-4c48-9a8b-cf99bab9bcbc"
      },
      "source": [
        "housing.head()"
      ],
      "execution_count": null,
      "outputs": [
        {
          "output_type": "execute_result",
          "data": {
            "text/html": [
              "<div>\n",
              "<style scoped>\n",
              "    .dataframe tbody tr th:only-of-type {\n",
              "        vertical-align: middle;\n",
              "    }\n",
              "\n",
              "    .dataframe tbody tr th {\n",
              "        vertical-align: top;\n",
              "    }\n",
              "\n",
              "    .dataframe thead th {\n",
              "        text-align: right;\n",
              "    }\n",
              "</style>\n",
              "<table border=\"1\" class=\"dataframe\">\n",
              "  <thead>\n",
              "    <tr style=\"text-align: right;\">\n",
              "      <th></th>\n",
              "      <th>longitude</th>\n",
              "      <th>latitude</th>\n",
              "      <th>housing_median_age</th>\n",
              "      <th>total_rooms</th>\n",
              "      <th>total_bedrooms</th>\n",
              "      <th>population</th>\n",
              "      <th>households</th>\n",
              "      <th>median_income</th>\n",
              "      <th>median_house_value</th>\n",
              "      <th>ocean_proximity</th>\n",
              "    </tr>\n",
              "  </thead>\n",
              "  <tbody>\n",
              "    <tr>\n",
              "      <th>0</th>\n",
              "      <td>-122.23</td>\n",
              "      <td>37.88</td>\n",
              "      <td>41.0</td>\n",
              "      <td>880.0</td>\n",
              "      <td>129.0</td>\n",
              "      <td>322.0</td>\n",
              "      <td>126.0</td>\n",
              "      <td>8.3252</td>\n",
              "      <td>452600.0</td>\n",
              "      <td>NEAR BAY</td>\n",
              "    </tr>\n",
              "    <tr>\n",
              "      <th>1</th>\n",
              "      <td>-122.22</td>\n",
              "      <td>37.86</td>\n",
              "      <td>21.0</td>\n",
              "      <td>7099.0</td>\n",
              "      <td>1106.0</td>\n",
              "      <td>2401.0</td>\n",
              "      <td>1138.0</td>\n",
              "      <td>8.3014</td>\n",
              "      <td>358500.0</td>\n",
              "      <td>NEAR BAY</td>\n",
              "    </tr>\n",
              "    <tr>\n",
              "      <th>2</th>\n",
              "      <td>-122.24</td>\n",
              "      <td>37.85</td>\n",
              "      <td>52.0</td>\n",
              "      <td>1467.0</td>\n",
              "      <td>190.0</td>\n",
              "      <td>496.0</td>\n",
              "      <td>177.0</td>\n",
              "      <td>7.2574</td>\n",
              "      <td>352100.0</td>\n",
              "      <td>NEAR BAY</td>\n",
              "    </tr>\n",
              "    <tr>\n",
              "      <th>3</th>\n",
              "      <td>-122.25</td>\n",
              "      <td>37.85</td>\n",
              "      <td>52.0</td>\n",
              "      <td>1274.0</td>\n",
              "      <td>235.0</td>\n",
              "      <td>558.0</td>\n",
              "      <td>219.0</td>\n",
              "      <td>5.6431</td>\n",
              "      <td>341300.0</td>\n",
              "      <td>NEAR BAY</td>\n",
              "    </tr>\n",
              "    <tr>\n",
              "      <th>4</th>\n",
              "      <td>-122.25</td>\n",
              "      <td>37.85</td>\n",
              "      <td>52.0</td>\n",
              "      <td>1627.0</td>\n",
              "      <td>280.0</td>\n",
              "      <td>565.0</td>\n",
              "      <td>259.0</td>\n",
              "      <td>3.8462</td>\n",
              "      <td>342200.0</td>\n",
              "      <td>NEAR BAY</td>\n",
              "    </tr>\n",
              "  </tbody>\n",
              "</table>\n",
              "</div>"
            ],
            "text/plain": [
              "   longitude  latitude  ...  median_house_value  ocean_proximity\n",
              "0    -122.23     37.88  ...            452600.0         NEAR BAY\n",
              "1    -122.22     37.86  ...            358500.0         NEAR BAY\n",
              "2    -122.24     37.85  ...            352100.0         NEAR BAY\n",
              "3    -122.25     37.85  ...            341300.0         NEAR BAY\n",
              "4    -122.25     37.85  ...            342200.0         NEAR BAY\n",
              "\n",
              "[5 rows x 10 columns]"
            ]
          },
          "metadata": {
            "tags": []
          },
          "execution_count": 11
        }
      ]
    },
    {
      "cell_type": "markdown",
      "metadata": {
        "id": "QbscYqgoUtQ_"
      },
      "source": [
        "- I know I said we don't need to worry _too much_ about aesthetics, but if you saw the above histogram without the associated code, you wouldn't know what it's conveying.\n",
        "> Let's add some labels to fix that:"
      ]
    },
    {
      "cell_type": "markdown",
      "metadata": {
        "id": "EENK6XqeLyMC"
      },
      "source": [
        "# What Is The Distribution Of House Values?"
      ]
    },
    {
      "cell_type": "code",
      "metadata": {
        "id": "aoPJq1j8VBGI"
      },
      "source": [
        "# First we create our plot\n",
        "***LIVE CODE***\n",
        "\n",
        "# We can add labels\n",
        "plt.title('Distribution of Median House Values')\n",
        "plt.xlabel('Median House Value')\n",
        "plt.ylabel('Number of Houses') \n",
        "\n",
        "# We can also export our vis to a file (supports 'png', 'svg', 'pdf', etc)\n",
        "plt.savefig('dist_house_values.svg', format = 'svg', transparent=True)"
      ],
      "execution_count": null,
      "outputs": []
    },
    {
      "cell_type": "markdown",
      "metadata": {
        "id": "A_viMq-m6c4u"
      },
      "source": [
        "- What about using our `ocean_proximity` column to quantify our house locations? How close to (or far from) the ocean are all of our houses located?\n",
        "> We'll use `value_counts` and a **bar chart** to answer this:"
      ]
    },
    {
      "cell_type": "code",
      "metadata": {
        "id": "zLqBK9SW7lMu"
      },
      "source": [
        "housing.head()"
      ],
      "execution_count": null,
      "outputs": []
    },
    {
      "cell_type": "code",
      "metadata": {
        "id": "iVhyqWEDvKBP"
      },
      "source": [
        "# Generating the values we are using for the following plot:\n",
        "housing['ocean_proximity'].value_counts()"
      ],
      "execution_count": null,
      "outputs": []
    },
    {
      "cell_type": "markdown",
      "metadata": {
        "id": "xgayov6gL2OR"
      },
      "source": [
        "# How Close To The Ocean Are The Houses?"
      ]
    },
    {
      "cell_type": "code",
      "metadata": {
        "id": "h9QWhohxpSfU"
      },
      "source": [
        "# Bar chart for those values here:\n",
        "***LIVE CODE***\n",
        "\n",
        "# Labels\n",
        "plt.title('Number of Houses By Ocean Proximity') \n",
        "plt.xlabel('Ocean Proximity') \n",
        "plt.ylabel('Number of Houses');"
      ],
      "execution_count": null,
      "outputs": []
    },
    {
      "cell_type": "markdown",
      "metadata": {
        "id": "XAP89_uftfyg"
      },
      "source": [
        "- While plotting the value counts for `ocean_proximity` is nice for some initial EDA, it's not necessarily helping us answer more about our big overall question. Maybe we continue to build off of it and ask the following: what is the average median house value per each category in `ocean_proximity`?\n",
        "> We'll use pandas `groupby` and a **bar chart** to answer this:"
      ]
    },
    {
      "cell_type": "code",
      "metadata": {
        "id": "PX4CyWVP9DCk"
      },
      "source": [
        "housing.head()"
      ],
      "execution_count": null,
      "outputs": []
    },
    {
      "cell_type": "markdown",
      "metadata": {
        "id": "9HutTZ3tL7rg"
      },
      "source": [
        "# How Does Ocean Proximity Relate To House Value?"
      ]
    },
    {
      "cell_type": "code",
      "metadata": {
        "id": "sW4pBjbZnDk_"
      },
      "source": [
        "# Generating the values for the following plot using groupby:\n",
        "ocean_prox_house_val = housing.groupby(\n",
        "    'ocean_proximity')['median_house_value'].mean().sort_values(ascending=False)\n",
        "\n",
        "ocean_prox_house_val"
      ],
      "execution_count": null,
      "outputs": []
    },
    {
      "cell_type": "code",
      "metadata": {
        "id": "2C3nEiKCrvZF"
      },
      "source": [
        "# Use our ocean_prox_house_val variable to plot those values as a bar chart:\n",
        "ocean_prox_house_val.plot(***LIVE CODE***)\n",
        "\n",
        "# Labels\n",
        "plt.title('House Value by Ocean Proximity') \n",
        "plt.xlabel('Ocean Proximity') \n",
        "plt.ylabel('Average Median House Value'); "
      ],
      "execution_count": null,
      "outputs": []
    },
    {
      "cell_type": "markdown",
      "metadata": {
        "id": "izkhcTfo11GG"
      },
      "source": [
        "> _From this chart, it seems like houses located further inland are associated with a decrease in average median house value._"
      ]
    },
    {
      "cell_type": "code",
      "metadata": {
        "id": "Iwo9Qjpd-Zkk",
        "colab": {
          "base_uri": "https://localhost:8080/",
          "height": 222
        },
        "outputId": "ec38823d-d136-4fbe-82f3-b87c71e4aaf2"
      },
      "source": [
        "housing.head()"
      ],
      "execution_count": null,
      "outputs": [
        {
          "output_type": "execute_result",
          "data": {
            "text/html": [
              "<div>\n",
              "<style scoped>\n",
              "    .dataframe tbody tr th:only-of-type {\n",
              "        vertical-align: middle;\n",
              "    }\n",
              "\n",
              "    .dataframe tbody tr th {\n",
              "        vertical-align: top;\n",
              "    }\n",
              "\n",
              "    .dataframe thead th {\n",
              "        text-align: right;\n",
              "    }\n",
              "</style>\n",
              "<table border=\"1\" class=\"dataframe\">\n",
              "  <thead>\n",
              "    <tr style=\"text-align: right;\">\n",
              "      <th></th>\n",
              "      <th>longitude</th>\n",
              "      <th>latitude</th>\n",
              "      <th>housing_median_age</th>\n",
              "      <th>total_rooms</th>\n",
              "      <th>total_bedrooms</th>\n",
              "      <th>population</th>\n",
              "      <th>households</th>\n",
              "      <th>median_income</th>\n",
              "      <th>median_house_value</th>\n",
              "      <th>ocean_proximity</th>\n",
              "    </tr>\n",
              "  </thead>\n",
              "  <tbody>\n",
              "    <tr>\n",
              "      <th>0</th>\n",
              "      <td>-122.23</td>\n",
              "      <td>37.88</td>\n",
              "      <td>41.0</td>\n",
              "      <td>880.0</td>\n",
              "      <td>129.0</td>\n",
              "      <td>322.0</td>\n",
              "      <td>126.0</td>\n",
              "      <td>8.3252</td>\n",
              "      <td>452600.0</td>\n",
              "      <td>NEAR BAY</td>\n",
              "    </tr>\n",
              "    <tr>\n",
              "      <th>1</th>\n",
              "      <td>-122.22</td>\n",
              "      <td>37.86</td>\n",
              "      <td>21.0</td>\n",
              "      <td>7099.0</td>\n",
              "      <td>1106.0</td>\n",
              "      <td>2401.0</td>\n",
              "      <td>1138.0</td>\n",
              "      <td>8.3014</td>\n",
              "      <td>358500.0</td>\n",
              "      <td>NEAR BAY</td>\n",
              "    </tr>\n",
              "    <tr>\n",
              "      <th>2</th>\n",
              "      <td>-122.24</td>\n",
              "      <td>37.85</td>\n",
              "      <td>52.0</td>\n",
              "      <td>1467.0</td>\n",
              "      <td>190.0</td>\n",
              "      <td>496.0</td>\n",
              "      <td>177.0</td>\n",
              "      <td>7.2574</td>\n",
              "      <td>352100.0</td>\n",
              "      <td>NEAR BAY</td>\n",
              "    </tr>\n",
              "    <tr>\n",
              "      <th>3</th>\n",
              "      <td>-122.25</td>\n",
              "      <td>37.85</td>\n",
              "      <td>52.0</td>\n",
              "      <td>1274.0</td>\n",
              "      <td>235.0</td>\n",
              "      <td>558.0</td>\n",
              "      <td>219.0</td>\n",
              "      <td>5.6431</td>\n",
              "      <td>341300.0</td>\n",
              "      <td>NEAR BAY</td>\n",
              "    </tr>\n",
              "    <tr>\n",
              "      <th>4</th>\n",
              "      <td>-122.25</td>\n",
              "      <td>37.85</td>\n",
              "      <td>52.0</td>\n",
              "      <td>1627.0</td>\n",
              "      <td>280.0</td>\n",
              "      <td>565.0</td>\n",
              "      <td>259.0</td>\n",
              "      <td>3.8462</td>\n",
              "      <td>342200.0</td>\n",
              "      <td>NEAR BAY</td>\n",
              "    </tr>\n",
              "  </tbody>\n",
              "</table>\n",
              "</div>"
            ],
            "text/plain": [
              "   longitude  latitude  ...  median_house_value  ocean_proximity\n",
              "0    -122.23     37.88  ...            452600.0         NEAR BAY\n",
              "1    -122.22     37.86  ...            358500.0         NEAR BAY\n",
              "2    -122.24     37.85  ...            352100.0         NEAR BAY\n",
              "3    -122.25     37.85  ...            341300.0         NEAR BAY\n",
              "4    -122.25     37.85  ...            342200.0         NEAR BAY\n",
              "\n",
              "[5 rows x 10 columns]"
            ]
          },
          "metadata": {
            "tags": []
          },
          "execution_count": 20
        }
      ]
    },
    {
      "cell_type": "markdown",
      "metadata": {
        "id": "YY09ZswVSJ_m"
      },
      "source": [
        "# Challenge 1"
      ]
    },
    {
      "cell_type": "code",
      "metadata": {
        "id": "76WnDtavWEvI"
      },
      "source": [
        "# CHALLENGE 1\n",
        "# Use groupby and create another bar chart to show how a different continuous variable is related to ocean proximity:\n",
        "# Don't forget to replace any relevant labels and titles!\n",
        "***LIVE CODE*** = housing.groupby(\n",
        "    'ocean_proximity')['***LIVE CODE***'].mean().sort_values(ascending=False)\n",
        "\n",
        "***LIVE CODE***.plot(kind = 'bar', color = 'maroon')\n",
        "\n",
        "# Labels\n",
        "plt.title('***LIVE CODE***') \n",
        "plt.xlabel('***LIVE CODE***') \n",
        "plt.ylabel('***LIVE CODE***'); "
      ],
      "execution_count": null,
      "outputs": []
    },
    {
      "cell_type": "markdown",
      "metadata": {
        "id": "dDhIDAnwMCCg"
      },
      "source": [
        "# Is There A Relationship Between Income And House Value?\n"
      ]
    },
    {
      "cell_type": "markdown",
      "metadata": {
        "id": "P1i1ZlpF8w_G"
      },
      "source": [
        "- Maybe we want to know if other aspects of our data are related in any meaningful way.\n",
        "\n",
        "- We might suspect that more income could likely mean a nicer home, so we could ask the following: are `median_income` and `median_house_value` positively correlated?\n",
        "\n",
        "- A **scatter plot** will help illuminate that for us:\n"
      ]
    },
    {
      "cell_type": "code",
      "metadata": {
        "id": "9JS6gxZRxkUb"
      },
      "source": [
        "housing.head()"
      ],
      "execution_count": null,
      "outputs": []
    },
    {
      "cell_type": "code",
      "metadata": {
        "id": "VM-9TGpBpD8c"
      },
      "source": [
        "# Median income vs house value scatterplot\n",
        "plt.scatter(***LIVE CODE***)\n",
        "plt.title('Median Income $10k by Median House Value') \n",
        "plt.xlabel('Median Income $10k')\n",
        "plt.ylabel('Median House Value');"
      ],
      "execution_count": null,
      "outputs": []
    },
    {
      "cell_type": "markdown",
      "metadata": {
        "id": "BQNCZhB89AM2"
      },
      "source": [
        "> _It looks like there is a positive correlation between income and house value._"
      ]
    },
    {
      "cell_type": "markdown",
      "metadata": {
        "id": "iXSx-9I1NWxl"
      },
      "source": [
        "# Challenge 2"
      ]
    },
    {
      "cell_type": "code",
      "metadata": {
        "colab": {
          "base_uri": "https://localhost:8080/",
          "height": 222
        },
        "id": "doL0oJYsyqp0",
        "outputId": "c8e5dad5-5f5f-4cb5-c07f-22ae23173595"
      },
      "source": [
        "housing.head()"
      ],
      "execution_count": null,
      "outputs": [
        {
          "output_type": "execute_result",
          "data": {
            "text/html": [
              "<div>\n",
              "<style scoped>\n",
              "    .dataframe tbody tr th:only-of-type {\n",
              "        vertical-align: middle;\n",
              "    }\n",
              "\n",
              "    .dataframe tbody tr th {\n",
              "        vertical-align: top;\n",
              "    }\n",
              "\n",
              "    .dataframe thead th {\n",
              "        text-align: right;\n",
              "    }\n",
              "</style>\n",
              "<table border=\"1\" class=\"dataframe\">\n",
              "  <thead>\n",
              "    <tr style=\"text-align: right;\">\n",
              "      <th></th>\n",
              "      <th>longitude</th>\n",
              "      <th>latitude</th>\n",
              "      <th>housing_median_age</th>\n",
              "      <th>total_rooms</th>\n",
              "      <th>total_bedrooms</th>\n",
              "      <th>population</th>\n",
              "      <th>households</th>\n",
              "      <th>median_income</th>\n",
              "      <th>median_house_value</th>\n",
              "      <th>ocean_proximity</th>\n",
              "    </tr>\n",
              "  </thead>\n",
              "  <tbody>\n",
              "    <tr>\n",
              "      <th>0</th>\n",
              "      <td>-122.23</td>\n",
              "      <td>37.88</td>\n",
              "      <td>41.0</td>\n",
              "      <td>880.0</td>\n",
              "      <td>129.0</td>\n",
              "      <td>322.0</td>\n",
              "      <td>126.0</td>\n",
              "      <td>8.3252</td>\n",
              "      <td>452600.0</td>\n",
              "      <td>NEAR BAY</td>\n",
              "    </tr>\n",
              "    <tr>\n",
              "      <th>1</th>\n",
              "      <td>-122.22</td>\n",
              "      <td>37.86</td>\n",
              "      <td>21.0</td>\n",
              "      <td>7099.0</td>\n",
              "      <td>1106.0</td>\n",
              "      <td>2401.0</td>\n",
              "      <td>1138.0</td>\n",
              "      <td>8.3014</td>\n",
              "      <td>358500.0</td>\n",
              "      <td>NEAR BAY</td>\n",
              "    </tr>\n",
              "    <tr>\n",
              "      <th>2</th>\n",
              "      <td>-122.24</td>\n",
              "      <td>37.85</td>\n",
              "      <td>52.0</td>\n",
              "      <td>1467.0</td>\n",
              "      <td>190.0</td>\n",
              "      <td>496.0</td>\n",
              "      <td>177.0</td>\n",
              "      <td>7.2574</td>\n",
              "      <td>352100.0</td>\n",
              "      <td>NEAR BAY</td>\n",
              "    </tr>\n",
              "    <tr>\n",
              "      <th>3</th>\n",
              "      <td>-122.25</td>\n",
              "      <td>37.85</td>\n",
              "      <td>52.0</td>\n",
              "      <td>1274.0</td>\n",
              "      <td>235.0</td>\n",
              "      <td>558.0</td>\n",
              "      <td>219.0</td>\n",
              "      <td>5.6431</td>\n",
              "      <td>341300.0</td>\n",
              "      <td>NEAR BAY</td>\n",
              "    </tr>\n",
              "    <tr>\n",
              "      <th>4</th>\n",
              "      <td>-122.25</td>\n",
              "      <td>37.85</td>\n",
              "      <td>52.0</td>\n",
              "      <td>1627.0</td>\n",
              "      <td>280.0</td>\n",
              "      <td>565.0</td>\n",
              "      <td>259.0</td>\n",
              "      <td>3.8462</td>\n",
              "      <td>342200.0</td>\n",
              "      <td>NEAR BAY</td>\n",
              "    </tr>\n",
              "  </tbody>\n",
              "</table>\n",
              "</div>"
            ],
            "text/plain": [
              "   longitude  latitude  ...  median_house_value  ocean_proximity\n",
              "0    -122.23     37.88  ...            452600.0         NEAR BAY\n",
              "1    -122.22     37.86  ...            358500.0         NEAR BAY\n",
              "2    -122.24     37.85  ...            352100.0         NEAR BAY\n",
              "3    -122.25     37.85  ...            341300.0         NEAR BAY\n",
              "4    -122.25     37.85  ...            342200.0         NEAR BAY\n",
              "\n",
              "[5 rows x 10 columns]"
            ]
          },
          "metadata": {
            "tags": []
          },
          "execution_count": 27
        }
      ]
    },
    {
      "cell_type": "code",
      "metadata": {
        "id": "nBSsTVvYdSbG"
      },
      "source": [
        "# CHALLENGE 2\n",
        "# Use a scatter plot to show a different relationship between two continuous variables:\n",
        "# Don't forget to replace any relevant labels and titles!\n",
        "plt.scatter(housing['***LIVE CODE***'], housing['***LIVE CODE***'])\n",
        "plt.title('***LIVE CODE***') \n",
        "plt.xlabel('***LIVE CODE***')\n",
        "plt.ylabel('***LIVE CODE***');"
      ],
      "execution_count": null,
      "outputs": []
    },
    {
      "cell_type": "markdown",
      "metadata": {
        "id": "_d4yMiKUNY9Y"
      },
      "source": [
        "# What are the Correlations Between All Continuous Variables?"
      ]
    },
    {
      "cell_type": "markdown",
      "metadata": {
        "id": "uBiB9EWxdbJm"
      },
      "source": [
        "- What if we don't want to look at individual scatterplots one at a time? Is there a way to look at multiple correlations at once?\n",
        "> Yes! Pandas has a very helpful `.corr()` function that generates correlation values for all continuous variables with each other."
      ]
    },
    {
      "cell_type": "code",
      "metadata": {
        "id": "4xvbwZ5K9HgO"
      },
      "source": [
        "# Generating the values to visualize:\n",
        "# (You can also check for how strong the correlation was for your scatter plot here!)\n",
        "housing.corr()"
      ],
      "execution_count": null,
      "outputs": []
    },
    {
      "cell_type": "markdown",
      "metadata": {
        "id": "AAStB74Pm8V1"
      },
      "source": [
        "> We can visualize the results of this correlation matrix using Seaborn's **heatmap** visualization:"
      ]
    },
    {
      "cell_type": "code",
      "metadata": {
        "id": "fYCxq9nheEhR"
      },
      "source": [
        "# Visualizing our correlation matrix with a heatmap:\n",
        "plt.figure(figsize=(8,8))\n",
        "sns.heatmap(***LIVE CODE***,\n",
        "            linewidths = 0.25,\n",
        "            square = True,\n",
        "            cmap = 'seismic',\n",
        "            linecolor = 'black',\n",
        "            annot= True)\n",
        "\n",
        "plt.title('Correlation Matrix', fontsize = 30);"
      ],
      "execution_count": null,
      "outputs": []
    },
    {
      "cell_type": "markdown",
      "metadata": {
        "id": "vHoY7Zjs2RRs"
      },
      "source": [
        "# Final Visualization\n",
        "\n",
        "We've answered a lot of questions about our data, and have generated some very useful visualizations to help answer those questions. However, both aesthetically and functionally, the ones that we've created have fallen more into the \"visualizations for ourselves\" bucket.\n",
        "\n",
        "Now that we have a deeper understanding of our dataset, let's switch gears and create one final visualization that is presentation-ready and aims to answer our big question that we started with: **What makes buying a home in California expensive?** We will want this one to display multiple aspects of our dataset at once and embody the use of visualization to tell a story about our data."
      ]
    },
    {
      "cell_type": "markdown",
      "metadata": {
        "id": "45HpPGst3puO"
      },
      "source": [
        "- Since we have `longitude` and `latitude` data, we can use a **scatter plot** to create a map of our data and then continually experiment with new parameters to get what we want:\n",
        "> First change the size of the figure and then we'll set the `alpha` (or transparency) of our points to 40%."
      ]
    },
    {
      "cell_type": "code",
      "metadata": {
        "id": "nVMF3f0eN0RZ"
      },
      "source": [
        "# Plotting a scatter plot of longitude and latitude:\n",
        "\n",
        "housing.plot(kind = 'scatter',\n",
        "             x = 'longitude',\n",
        "             y = 'latitude',\n",
        "             figsize = (7,7),\n",
        "             alpha = .4);"
      ],
      "execution_count": null,
      "outputs": []
    },
    {
      "cell_type": "markdown",
      "metadata": {
        "id": "WspD2MDP5SQP"
      },
      "source": [
        "- We know that we'll want to incorporate median income information into our viz, so let's do that here:\n",
        "> Do this by changing the `s` (size) of each point proportional to the median income of the associated block and then adding a label so our audience knows what it's conveying."
      ]
    },
    {
      "cell_type": "code",
      "metadata": {
        "id": "Vxxv7Fad5RS5"
      },
      "source": [
        "# Changing our point size:\n",
        "\n",
        "housing.plot(kind = 'scatter',\n",
        "             x = 'longitude',\n",
        "             y = 'latitude',\n",
        "             figsize = (7,7),\n",
        "             alpha = 0.4,\n",
        "             s = housing['median_income']*5,\n",
        "             label = 'median income');"
      ],
      "execution_count": null,
      "outputs": []
    },
    {
      "cell_type": "markdown",
      "metadata": {
        "id": "jnK0Aa0c6TMM"
      },
      "source": [
        "- In our last piece of data artistry, we'll incorporate the actual median house values:\n",
        "> Do this by changing the `c` (color) of each point proportional to the median house value of the associated block along the `cmap` (colormap) spectrum of \"jet\" and then adding a `colorbar` so our audience knows the range of those values. \n",
        "\n",
        "Now we have a _BEAUTIFUL_ piece of storytelling with data."
      ]
    },
    {
      "cell_type": "code",
      "metadata": {
        "id": "iVM7vNBb4DS9"
      },
      "source": [
        "# Building out our final viz:\n",
        "housing.plot(kind = 'scatter',\n",
        "             x = 'longitude',\n",
        "             y = 'latitude',\n",
        "             figsize = (7,7),\n",
        "             alpha = 0.4,\n",
        "             s = housing['median_income']*5,\n",
        "             label = 'median income',\n",
        "             c = ***LIVE CODE***,\n",
        "             cmap = ***LIVE CODE***,\n",
        "             colorbar = ***LIVE CODE***)\n",
        "\n",
        "plt.title('Correlation Matrix');"
      ],
      "execution_count": null,
      "outputs": []
    },
    {
      "cell_type": "markdown",
      "metadata": {
        "id": "LoMT_QMx7v31"
      },
      "source": [
        "#### To wrap it all up, we now have a plot that is showing that housing prices increase in areas of more concentrated wealth that are also closest to the coast and high density urban areas like San Francisco and Los Angeles."
      ]
    },
    {
      "cell_type": "markdown",
      "metadata": {
        "id": "Us6B5ypvc2R6"
      },
      "source": [
        "#### Challenge\n",
        "For added practice and to improve this last visualization, think about what other factors you could plot to continue to answer the big question, \"What makes buying a home in California so expensive?\".  \n",
        "\n",
        "Suggestions of things to change/add:\n",
        "- Change the column used to show the size (s) of the points (you might have to multiply or divide by a different value, and make sure to change the label too)\n",
        "- Change the [color map](https://matplotlib.org/tutorials/colors/colormaps.html) to better convey the information\n",
        "- Change the figure size (which number corresponds to width?)\n",
        "- Change the alpha (values between 0 and 1)\n",
        "- Look through the [matplotlib scatter](https://matplotlib.org/api/_as_gen/matplotlib.pyplot.scatter.html) docs to see what other parameters you can add/change to improve the plot (can you remove the axes?)\n",
        "\n",
        "# Keep Learning with Thinkful\n",
        "If you enjoyed today's session and want to take a deeper dive into many of the topics that we covered today like Pandas, SQL, predictive modeling, visualizing your data, and so much more, we'd love to have you join us again!\n",
        "- Check out more of our webinars at [Thinkful Webinars](https://www.thinkful.com/webinars/)\n",
        "- Learn more about the [Data Science Flex Course](https://www.thinkful.com/bootcamp/data-science/flexible/)"
      ]
    }
  ]
}